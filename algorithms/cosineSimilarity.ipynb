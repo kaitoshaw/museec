{
 "cells": [
  {
   "cell_type": "code",
   "execution_count": 1,
   "metadata": {},
   "outputs": [
    {
     "name": "stdout",
     "output_type": "stream",
     "text": [
      "[0.718, 0.803, -4.983, 1, 0.0318, 0.182, 1.85e-06, 0.111, 0.889]\n",
      "Unnamed: 0                                          27\n",
      "track_id                        0dzKBptH2P5j5a0MifBMwM\n",
      "artists                                     Jason Mraz\n",
      "album_name          Feeling Good - Adult Pop Favorites\n",
      "track_name                              If It Kills Me\n",
      "popularity                                           0\n",
      "duration_ms                                     273653\n",
      "explicit                                         False\n",
      "danceability                                     0.633\n",
      "energy                                           0.429\n",
      "key                                                  4\n",
      "loudness                                        -6.784\n",
      "mode                                                 0\n",
      "speechiness                                     0.0381\n",
      "acousticness                                    0.0444\n",
      "instrumentalness                                   0.0\n",
      "liveness                                         0.132\n",
      "valence                                           0.52\n",
      "tempo                                          143.793\n",
      "time_signature                                       4\n",
      "track_genre                                   acoustic\n",
      "Name: 27, dtype: object\n"
     ]
    }
   ],
   "source": [
    "import pandas as pd\n",
    "import os\n",
    "from sklearn.metrics.pairwise import cosine_similarity\n",
    "import numpy as np\n",
    "os.chdir('..')\n",
    "from functions import querySong\n",
    "\n",
    "# Load the first 1000 songs in the dataset\n",
    "df = pd.read_csv('dataset/partial.csv')\n",
    "feature_vectors = []\n",
    "\n",
    "# Only select several columns\n",
    "columns = [8, 9, 11, 12, 13, 14, 15, 16, 17]\n",
    "for row in range(len(df)):\n",
    "    temp = []\n",
    "    for column in columns:\n",
    "        temp.append(df.iloc[row][column])\n",
    "    feature_vectors.append(temp)\n",
    "\n",
    "# Calculate cosine similarity matrix\n",
    "cosine_sim_matrix = cosine_similarity(feature_vectors)\n",
    "\n",
    "# Get song based on the ID\n",
    "query_song = [querySong('0bC7GKnxh9W9JIvJ6HVWxc')]\n",
    "\n",
    "# Calculate cosine similarity between the query song and all other songs\n",
    "cosine_similarities = cosine_similarity(query_song, feature_vectors)\n",
    "\n",
    "# Get the most similar song index\n",
    "most_similar_song_index = np.argmax(cosine_similarities)\n",
    "\n",
    "# # Print the most similar song index and its corresponding similarity score\n",
    "# print(\"Most similar song index:\", most_similar_song_index)\n",
    "# print(\"Similarity score:\", cosine_similarities[0, most_similar_song_index])\n",
    "\n",
    "print(df.iloc[most_similar_song_index])"
   ]
  }
 ],
 "metadata": {
  "kernelspec": {
   "display_name": "base",
   "language": "python",
   "name": "python3"
  },
  "language_info": {
   "codemirror_mode": {
    "name": "ipython",
    "version": 3
   },
   "file_extension": ".py",
   "mimetype": "text/x-python",
   "name": "python",
   "nbconvert_exporter": "python",
   "pygments_lexer": "ipython3",
   "version": "3.9.13"
  },
  "orig_nbformat": 4
 },
 "nbformat": 4,
 "nbformat_minor": 2
}
