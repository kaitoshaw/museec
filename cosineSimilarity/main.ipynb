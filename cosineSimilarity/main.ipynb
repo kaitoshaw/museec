{
 "cells": [
  {
   "cell_type": "code",
   "execution_count": null,
   "metadata": {},
   "outputs": [],
   "source": [
    "import pandas as pd\n",
    "import os\n",
    "from sklearn.metrics.pairwise import cosine_similarity\n",
    "import numpy as np\n",
    "os.chdir('..')\n",
    "from functions import querySong\n",
    "\n",
    "# Load the first 1000 songs in the dataset\n",
    "df = pd.read_csv('dataset/partial.csv')\n",
    "feature_vectors = []\n",
    "\n",
    "# Only select several columns\n",
    "columns = [8, 9, 11, 12, 13, 14, 15, 16, 17]\n",
    "for row in range(len(df)):\n",
    "    temp = []\n",
    "    for column in columns:\n",
    "        temp.append(df.iloc[row][column])\n",
    "    feature_vectors.append(temp)\n",
    "\n",
    "# Calculate cosine similarity matrix\n",
    "cosine_sim_matrix = cosine_similarity(feature_vectors)\n",
    "\n",
    "# Get song based on the ID\n",
    "query_song = [querySong('0bC7GKnxh9W9JIvJ6HVWxc')]\n",
    "\n",
    "# Calculate cosine similarity between the query song and all other songs\n",
    "cosine_similarities = cosine_similarity(query_song, feature_vectors)\n",
    "\n",
    "# Get the most similar song index\n",
    "most_similar_song_index = np.argmax(cosine_similarities)\n",
    "\n",
    "# # Print the most similar song index and its corresponding similarity score\n",
    "# print(\"Most similar song index:\", most_similar_song_index)\n",
    "# print(\"Similarity score:\", cosine_similarities[0, most_similar_song_index])\n",
    "\n",
    "print(df.iloc[most_similar_song_index])"
   ]
  }
 ],
 "metadata": {
  "language_info": {
   "name": "python"
  },
  "orig_nbformat": 4
 },
 "nbformat": 4,
 "nbformat_minor": 2
}
