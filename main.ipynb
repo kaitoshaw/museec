{
 "cells": [
  {
   "attachments": {},
   "cell_type": "markdown",
   "metadata": {},
   "source": [
    "# Data Loading"
   ]
  },
  {
   "cell_type": "code",
   "execution_count": null,
   "metadata": {},
   "outputs": [],
   "source": [
    "import pandas as pd\n",
    "\n",
    "new_df = pd.read_csv('database/output.csv', index_col=0)\n",
    "\n",
    "new_df.info()"
   ]
  },
  {
   "attachments": {},
   "cell_type": "markdown",
   "metadata": {},
   "source": [
    "# Feature Extraction\n",
    "\n",
    "The feature extraction of this project is unlike a regular machine learning problems. In this case, there is no \"target value\" which sets as a tuning parameter for the training phase.\n",
    "\n",
    "Rather than comparing the effectiveness of the features in regards to the result (which in this case there are none), we will take the correlation between the values within of each feature space, and rank them in order, ranking them from the feature with the least variance.\n",
    "\n",
    "With this in mind, the initial **assumption** is that user has this similarities in picking their songs inside their playlist. The features that share the least variance will be the main parameter to pick the song recommendation inside their **genre bubble**."
   ]
  },
  {
   "cell_type": "code",
   "execution_count": null,
   "metadata": {},
   "outputs": [],
   "source": [
    "# Feature extraction using Correlation Matrix (Pearson)\n",
    "\n",
    "import seaborn as sns\n",
    "import matplotlib.pyplot as plt\n",
    "\n",
    "# Assuming 'df' is your DataFrame containing the correlation matrix\n",
    "correlation_matrix = new_df.corr()\n",
    "\n",
    "# Create a heatmap of the correlation matrix\n",
    "plt.figure(figsize=(10, 8))\n",
    "sns.heatmap(correlation_matrix, annot=True, cmap='coolwarm')\n",
    "\n",
    "# Set plot title\n",
    "plt.title('Correlation Matrix')\n",
    "\n",
    "# Show the plot\n",
    "plt.show()"
   ]
  },
  {
   "cell_type": "code",
   "execution_count": null,
   "metadata": {},
   "outputs": [],
   "source": [
    "# Song Genre Count\n",
    "import re\n",
    "\n",
    "genreDict = {}\n",
    "\n",
    "for i in range(len(new_df)):\n",
    "    _genres = new_df.iloc[i][1].replace(\"'\", \"\").replace('[', '').replace(']', '')\n",
    "    _genres = _genres.split(\", \")\n",
    "\n",
    "    for _genre in _genres:\n",
    "        if _genre in genreDict:\n",
    "            genreDict[_genre] += 1\n",
    "        else:\n",
    "            genreDict[_genre] = 1\n",
    "\n",
    "print(genreDict)"
   ]
  },
  {
   "cell_type": "code",
   "execution_count": null,
   "metadata": {},
   "outputs": [],
   "source": [
    "import matplotlib.pyplot as plt\n",
    "\n",
    "# Assuming 'data' is your dictionary\n",
    "\n",
    "# Filter the data to include values greater than 50 and sum up the remaining values\n",
    "filtered_data = {key: value for key, value in genreDict.items() if value > 30}\n",
    "other_value = sum(value for value in genreDict.values() if value <= 30)\n",
    "\n",
    "# Add the \"Other\" category and its summed up value to the filtered data\n",
    "filtered_data['Other'] = other_value\n",
    "\n",
    "# Extract the filtered keys and values\n",
    "categories = list(filtered_data.keys())\n",
    "values = list(filtered_data.values())\n",
    "\n",
    "# Create a bar chart\n",
    "plt.bar(categories, values)\n",
    "\n",
    "# Rotate the x-axis labels by 90 degrees\n",
    "plt.xticks(rotation=85)\n",
    "\n",
    "# Add count labels on top of each bar\n",
    "for i, v in enumerate(values):\n",
    "    plt.text(i, v + 2, str(v), ha='center')\n",
    "\n",
    "# Set labels and title\n",
    "plt.show()\n"
   ]
  }
 ],
 "metadata": {
  "kernelspec": {
   "display_name": "base",
   "language": "python",
   "name": "python3"
  },
  "language_info": {
   "codemirror_mode": {
    "name": "ipython",
    "version": 3
   },
   "file_extension": ".py",
   "mimetype": "text/x-python",
   "name": "python",
   "nbconvert_exporter": "python",
   "pygments_lexer": "ipython3",
   "version": "3.9.13"
  },
  "orig_nbformat": 4
 },
 "nbformat": 4,
 "nbformat_minor": 2
}
